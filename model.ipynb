{
 "cells": [
  {
   "cell_type": "markdown",
   "metadata": {},
   "source": [
    "# **Data Cleaning**"
   ]
  },
  {
   "cell_type": "code",
   "execution_count": 1,
   "metadata": {},
   "outputs": [],
   "source": [
    "import pandas as pd"
   ]
  },
  {
   "cell_type": "code",
   "execution_count": 46,
   "metadata": {},
   "outputs": [
    {
     "data": {
      "text/html": [
       "<div>\n",
       "<style scoped>\n",
       "    .dataframe tbody tr th:only-of-type {\n",
       "        vertical-align: middle;\n",
       "    }\n",
       "\n",
       "    .dataframe tbody tr th {\n",
       "        vertical-align: top;\n",
       "    }\n",
       "\n",
       "    .dataframe thead th {\n",
       "        text-align: right;\n",
       "    }\n",
       "</style>\n",
       "<table border=\"1\" class=\"dataframe\">\n",
       "  <thead>\n",
       "    <tr style=\"text-align: right;\">\n",
       "      <th></th>\n",
       "      <th>id</th>\n",
       "      <th>name</th>\n",
       "      <th>description</th>\n",
       "      <th>skills</th>\n",
       "    </tr>\n",
       "  </thead>\n",
       "  <tbody>\n",
       "    <tr>\n",
       "      <th>0</th>\n",
       "      <td>1</td>\n",
       "      <td>Back-end Developer Internship</td>\n",
       "      <td>Job Descriptions Merancang dan membuat API den...</td>\n",
       "      <td>NaN</td>\n",
       "    </tr>\n",
       "    <tr>\n",
       "      <th>1</th>\n",
       "      <td>2</td>\n",
       "      <td>Website Developer</td>\n",
       "      <td>&lt;p&gt;&lt;strong&gt;Kualifikasi :&lt;/strong&gt;&amp;nbsp;&lt;/p&gt;&lt;ul...</td>\n",
       "      <td>['Komunikasi', 'Kreatif', 'Pemahaman Industri'...</td>\n",
       "    </tr>\n",
       "    <tr>\n",
       "      <th>2</th>\n",
       "      <td>3</td>\n",
       "      <td>Software Architect Intern</td>\n",
       "      <td>&lt;p&gt;To help architect team on demonstration of ...</td>\n",
       "      <td>['Komunikasi', 'Kreatif', 'Desain Grafis', 'Co...</td>\n",
       "    </tr>\n",
       "  </tbody>\n",
       "</table>\n",
       "</div>"
      ],
      "text/plain": [
       "   id                           name  \\\n",
       "0   1  Back-end Developer Internship   \n",
       "1   2              Website Developer   \n",
       "2   3      Software Architect Intern   \n",
       "\n",
       "                                         description  \\\n",
       "0  Job Descriptions Merancang dan membuat API den...   \n",
       "1  <p><strong>Kualifikasi :</strong>&nbsp;</p><ul...   \n",
       "2  <p>To help architect team on demonstration of ...   \n",
       "\n",
       "                                              skills  \n",
       "0                                                NaN  \n",
       "1  ['Komunikasi', 'Kreatif', 'Pemahaman Industri'...  \n",
       "2  ['Komunikasi', 'Kreatif', 'Desain Grafis', 'Co...  "
      ]
     },
     "execution_count": 46,
     "metadata": {},
     "output_type": "execute_result"
    }
   ],
   "source": [
    "dataset = pd.read_csv('dataset.csv')\n",
    "dataset"
   ]
  },
  {
   "cell_type": "markdown",
   "metadata": {},
   "source": [
    "## **Combine Data**"
   ]
  },
  {
   "cell_type": "code",
   "execution_count": 47,
   "metadata": {},
   "outputs": [],
   "source": [
    "import ast"
   ]
  },
  {
   "cell_type": "code",
   "execution_count": 48,
   "metadata": {},
   "outputs": [
    {
     "data": {
      "text/plain": [
       "0    Back-end Developer Internship  Job Description...\n",
       "1    Website Developer Komunikasi, Kreatif, Pemaham...\n",
       "2    Software Architect Intern Komunikasi, Kreatif,...\n",
       "Name: combined_text, dtype: object"
      ]
     },
     "execution_count": 48,
     "metadata": {},
     "output_type": "execute_result"
    }
   ],
   "source": [
    "dataset['skills'] = dataset['skills'].apply(lambda x: ast.literal_eval(x) if pd.notna(x) else '')\n",
    "\n",
    "dataset['skills'] = dataset['skills'].apply(lambda x: ', '.join(x) if isinstance(x, list) else x)\n",
    "\n",
    "dataset['combined_text'] = dataset['name'] + ' ' + dataset['skills'].astype(str) + ' ' + dataset['description']\n",
    "\n",
    "dataset['combined_text']"
   ]
  },
  {
   "cell_type": "code",
   "execution_count": 49,
   "metadata": {},
   "outputs": [
    {
     "name": "stdout",
     "output_type": "stream",
     "text": [
      "Website Developer Komunikasi, Kreatif, Pemahaman Industri, Manajemen Proyek, Kreativitas, Kerjasama Tim, Keahlian Teknologi, Pemasaran Produk <p><strong>Kualifikasi :</strong>&nbsp;</p><ul><li>Wajib memiliki laptop sendiri.</li><li>Mampu membuat website dan landing page sesuai dengan kebutuhan perusahaan </li><li>Mampu  Optimasi SEO</li><li>Masa magang minimum 3 bulan dengan jam kerja normal</li><li>Harus menyertakan portofolio</li></ul><p><br></p><p><br></p><p><strong>Benefit :</strong></p><ul><li>Sertifikat Magang&nbsp;</li><li>Konversi Nilai</li><li>Sistem WFH</li></ul><p><strong>Kualifikasi :</strong>&nbsp;</p><ul><li>Wajib memiliki laptop sendiri.</li><li>Mampu membuat website dan landing page sesuai dengan kebutuhan perusahaan </li><li>Mampu  Optimasi SEO</li><li>Masa magang minimum 3 bulan dengan jam kerja normal</li><li>Harus menyertakan portofolio</li></ul><p><br></p><p><br></p><p><strong>Benefit :</strong></p><ul><li>Sertifikat Magang&nbsp;</li><li>Konversi Nilai</li><li>Sistem WFH</li></ul>\n"
     ]
    }
   ],
   "source": [
    "print(dataset['combined_text'][1])"
   ]
  },
  {
   "cell_type": "markdown",
   "metadata": {},
   "source": [
    "## **Case Folding**"
   ]
  },
  {
   "cell_type": "code",
   "execution_count": 50,
   "metadata": {},
   "outputs": [
    {
     "data": {
      "text/html": [
       "<div>\n",
       "<style scoped>\n",
       "    .dataframe tbody tr th:only-of-type {\n",
       "        vertical-align: middle;\n",
       "    }\n",
       "\n",
       "    .dataframe tbody tr th {\n",
       "        vertical-align: top;\n",
       "    }\n",
       "\n",
       "    .dataframe thead th {\n",
       "        text-align: right;\n",
       "    }\n",
       "</style>\n",
       "<table border=\"1\" class=\"dataframe\">\n",
       "  <thead>\n",
       "    <tr style=\"text-align: right;\">\n",
       "      <th></th>\n",
       "      <th>id</th>\n",
       "      <th>combined_text</th>\n",
       "      <th>result_case_folding_data</th>\n",
       "    </tr>\n",
       "  </thead>\n",
       "  <tbody>\n",
       "    <tr>\n",
       "      <th>0</th>\n",
       "      <td>1</td>\n",
       "      <td>Back-end Developer Internship  Job Description...</td>\n",
       "      <td>back-end developer internship  job description...</td>\n",
       "    </tr>\n",
       "    <tr>\n",
       "      <th>1</th>\n",
       "      <td>2</td>\n",
       "      <td>Website Developer Komunikasi, Kreatif, Pemaham...</td>\n",
       "      <td>website developer komunikasi, kreatif, pemaham...</td>\n",
       "    </tr>\n",
       "    <tr>\n",
       "      <th>2</th>\n",
       "      <td>3</td>\n",
       "      <td>Software Architect Intern Komunikasi, Kreatif,...</td>\n",
       "      <td>software architect intern komunikasi, kreatif,...</td>\n",
       "    </tr>\n",
       "  </tbody>\n",
       "</table>\n",
       "</div>"
      ],
      "text/plain": [
       "   id                                      combined_text  \\\n",
       "0   1  Back-end Developer Internship  Job Description...   \n",
       "1   2  Website Developer Komunikasi, Kreatif, Pemaham...   \n",
       "2   3  Software Architect Intern Komunikasi, Kreatif,...   \n",
       "\n",
       "                            result_case_folding_data  \n",
       "0  back-end developer internship  job description...  \n",
       "1  website developer komunikasi, kreatif, pemaham...  \n",
       "2  software architect intern komunikasi, kreatif,...  "
      ]
     },
     "execution_count": 50,
     "metadata": {},
     "output_type": "execute_result"
    }
   ],
   "source": [
    "dataset['result_case_folding_data'] = dataset['combined_text'].apply(lambda x: x.casefold())\n",
    "dataset[['id', 'combined_text','result_case_folding_data']]"
   ]
  },
  {
   "cell_type": "code",
   "execution_count": 51,
   "metadata": {},
   "outputs": [
    {
     "name": "stdout",
     "output_type": "stream",
     "text": [
      "website developer komunikasi, kreatif, pemahaman industri, manajemen proyek, kreativitas, kerjasama tim, keahlian teknologi, pemasaran produk <p><strong>kualifikasi :</strong>&nbsp;</p><ul><li>wajib memiliki laptop sendiri.</li><li>mampu membuat website dan landing page sesuai dengan kebutuhan perusahaan </li><li>mampu  optimasi seo</li><li>masa magang minimum 3 bulan dengan jam kerja normal</li><li>harus menyertakan portofolio</li></ul><p><br></p><p><br></p><p><strong>benefit :</strong></p><ul><li>sertifikat magang&nbsp;</li><li>konversi nilai</li><li>sistem wfh</li></ul><p><strong>kualifikasi :</strong>&nbsp;</p><ul><li>wajib memiliki laptop sendiri.</li><li>mampu membuat website dan landing page sesuai dengan kebutuhan perusahaan </li><li>mampu  optimasi seo</li><li>masa magang minimum 3 bulan dengan jam kerja normal</li><li>harus menyertakan portofolio</li></ul><p><br></p><p><br></p><p><strong>benefit :</strong></p><ul><li>sertifikat magang&nbsp;</li><li>konversi nilai</li><li>sistem wfh</li></ul>\n"
     ]
    }
   ],
   "source": [
    "print(dataset['result_case_folding_data'][1])"
   ]
  },
  {
   "cell_type": "markdown",
   "metadata": {},
   "source": [
    "## **Remove Html Tags**"
   ]
  },
  {
   "cell_type": "code",
   "execution_count": 52,
   "metadata": {},
   "outputs": [],
   "source": [
    "from lxml import etree"
   ]
  },
  {
   "cell_type": "code",
   "execution_count": 55,
   "metadata": {},
   "outputs": [
    {
     "data": {
      "text/html": [
       "<div>\n",
       "<style scoped>\n",
       "    .dataframe tbody tr th:only-of-type {\n",
       "        vertical-align: middle;\n",
       "    }\n",
       "\n",
       "    .dataframe tbody tr th {\n",
       "        vertical-align: top;\n",
       "    }\n",
       "\n",
       "    .dataframe thead th {\n",
       "        text-align: right;\n",
       "    }\n",
       "</style>\n",
       "<table border=\"1\" class=\"dataframe\">\n",
       "  <thead>\n",
       "    <tr style=\"text-align: right;\">\n",
       "      <th></th>\n",
       "      <th>id</th>\n",
       "      <th>result_case_folding_data</th>\n",
       "      <th>result_remove_html_tags</th>\n",
       "    </tr>\n",
       "  </thead>\n",
       "  <tbody>\n",
       "    <tr>\n",
       "      <th>0</th>\n",
       "      <td>1</td>\n",
       "      <td>back-end developer internship  job description...</td>\n",
       "      <td>back-end developer internship  job description...</td>\n",
       "    </tr>\n",
       "    <tr>\n",
       "      <th>1</th>\n",
       "      <td>2</td>\n",
       "      <td>website developer komunikasi, kreatif, pemaham...</td>\n",
       "      <td>website developer komunikasi, kreatif, pemaham...</td>\n",
       "    </tr>\n",
       "    <tr>\n",
       "      <th>2</th>\n",
       "      <td>3</td>\n",
       "      <td>software architect intern komunikasi, kreatif,...</td>\n",
       "      <td>software architect intern komunikasi, kreatif,...</td>\n",
       "    </tr>\n",
       "  </tbody>\n",
       "</table>\n",
       "</div>"
      ],
      "text/plain": [
       "   id                           result_case_folding_data  \\\n",
       "0   1  back-end developer internship  job description...   \n",
       "1   2  website developer komunikasi, kreatif, pemaham...   \n",
       "2   3  software architect intern komunikasi, kreatif,...   \n",
       "\n",
       "                             result_remove_html_tags  \n",
       "0  back-end developer internship  job description...  \n",
       "1  website developer komunikasi, kreatif, pemaham...  \n",
       "2  software architect intern komunikasi, kreatif,...  "
      ]
     },
     "execution_count": 55,
     "metadata": {},
     "output_type": "execute_result"
    }
   ],
   "source": [
    "def remove_html_tags(text):\n",
    "    parser = etree.HTMLParser()\n",
    "    tree = etree.fromstring(text, parser)\n",
    "    return etree.tostring(tree, encoding='unicode', method='text')\n",
    "\n",
    "dataset['result_remove_html_tags'] = dataset['result_case_folding_data'].apply(remove_html_tags)\n",
    "dataset[['id', 'result_case_folding_data' ,'result_remove_html_tags']]"
   ]
  },
  {
   "cell_type": "code",
   "execution_count": 56,
   "metadata": {},
   "outputs": [
    {
     "name": "stdout",
     "output_type": "stream",
     "text": [
      "website developer komunikasi, kreatif, pemahaman industri, manajemen proyek, kreativitas, kerjasama tim, keahlian teknologi, pemasaran produk kualifikasi : wajib memiliki laptop sendiri.mampu membuat website dan landing page sesuai dengan kebutuhan perusahaan mampu  optimasi seomasa magang minimum 3 bulan dengan jam kerja normalharus menyertakan portofoliobenefit :sertifikat magang konversi nilaisistem wfhkualifikasi : wajib memiliki laptop sendiri.mampu membuat website dan landing page sesuai dengan kebutuhan perusahaan mampu  optimasi seomasa magang minimum 3 bulan dengan jam kerja normalharus menyertakan portofoliobenefit :sertifikat magang konversi nilaisistem wfh\n"
     ]
    }
   ],
   "source": [
    "print(dataset['result_remove_html_tags'][1])"
   ]
  },
  {
   "cell_type": "markdown",
   "metadata": {},
   "source": [
    "## **Remove Non-Alphanumeric Character**"
   ]
  },
  {
   "cell_type": "code",
   "execution_count": 57,
   "metadata": {},
   "outputs": [],
   "source": [
    "import re"
   ]
  },
  {
   "cell_type": "code",
   "execution_count": 58,
   "metadata": {},
   "outputs": [
    {
     "data": {
      "text/html": [
       "<div>\n",
       "<style scoped>\n",
       "    .dataframe tbody tr th:only-of-type {\n",
       "        vertical-align: middle;\n",
       "    }\n",
       "\n",
       "    .dataframe tbody tr th {\n",
       "        vertical-align: top;\n",
       "    }\n",
       "\n",
       "    .dataframe thead th {\n",
       "        text-align: right;\n",
       "    }\n",
       "</style>\n",
       "<table border=\"1\" class=\"dataframe\">\n",
       "  <thead>\n",
       "    <tr style=\"text-align: right;\">\n",
       "      <th></th>\n",
       "      <th>id</th>\n",
       "      <th>result_remove_html_tags</th>\n",
       "      <th>result_remove_unicode_character</th>\n",
       "    </tr>\n",
       "  </thead>\n",
       "  <tbody>\n",
       "    <tr>\n",
       "      <th>0</th>\n",
       "      <td>1</td>\n",
       "      <td>back-end developer internship  job description...</td>\n",
       "      <td>backend developer internship  job descriptions...</td>\n",
       "    </tr>\n",
       "    <tr>\n",
       "      <th>1</th>\n",
       "      <td>2</td>\n",
       "      <td>website developer komunikasi, kreatif, pemaham...</td>\n",
       "      <td>website developer komunikasi kreatif pemahaman...</td>\n",
       "    </tr>\n",
       "    <tr>\n",
       "      <th>2</th>\n",
       "      <td>3</td>\n",
       "      <td>software architect intern komunikasi, kreatif,...</td>\n",
       "      <td>software architect intern komunikasi kreatif d...</td>\n",
       "    </tr>\n",
       "  </tbody>\n",
       "</table>\n",
       "</div>"
      ],
      "text/plain": [
       "   id                            result_remove_html_tags  \\\n",
       "0   1  back-end developer internship  job description...   \n",
       "1   2  website developer komunikasi, kreatif, pemaham...   \n",
       "2   3  software architect intern komunikasi, kreatif,...   \n",
       "\n",
       "                     result_remove_unicode_character  \n",
       "0  backend developer internship  job descriptions...  \n",
       "1  website developer komunikasi kreatif pemahaman...  \n",
       "2  software architect intern komunikasi kreatif d...  "
      ]
     },
     "execution_count": 58,
     "metadata": {},
     "output_type": "execute_result"
    }
   ],
   "source": [
    "dataset['result_remove_non-alphanumeric_character'] = dataset['result_remove_html_tags'].apply(lambda x: re.sub(r\"(@\\[A-Za-z0-9]+)|([^0-9A-Za-z \\t])|(\\w+:\\/\\/\\S+)|^rt|http.+?\", \"\", x))\n",
    "dataset[['id', 'result_remove_html_tags', 'result_remove_non-alphanumeric_character']]"
   ]
  },
  {
   "cell_type": "code",
   "execution_count": 59,
   "metadata": {},
   "outputs": [
    {
     "name": "stdout",
     "output_type": "stream",
     "text": [
      "website developer komunikasi kreatif pemahaman industri manajemen proyek kreativitas kerjasama tim keahlian teknologi pemasaran produk kualifikasi wajib memiliki laptop sendirimampu membuat website dan landing page sesuai dengan kebutuhan perusahaan mampu  optimasi seomasa magang minimum 3 bulan dengan jam kerja normalharus menyertakan portofoliobenefit sertifikat magangkonversi nilaisistem wfhkualifikasi wajib memiliki laptop sendirimampu membuat website dan landing page sesuai dengan kebutuhan perusahaan mampu  optimasi seomasa magang minimum 3 bulan dengan jam kerja normalharus menyertakan portofoliobenefit sertifikat magangkonversi nilaisistem wfh\n"
     ]
    }
   ],
   "source": [
    "print(dataset['result_remove_unicode_character'][1])"
   ]
  },
  {
   "cell_type": "code",
   "execution_count": null,
   "metadata": {},
   "outputs": [],
   "source": []
  }
 ],
 "metadata": {
  "kernelspec": {
   "display_name": ".venv",
   "language": "python",
   "name": "python3"
  },
  "language_info": {
   "codemirror_mode": {
    "name": "ipython",
    "version": 3
   },
   "file_extension": ".py",
   "mimetype": "text/x-python",
   "name": "python",
   "nbconvert_exporter": "python",
   "pygments_lexer": "ipython3",
   "version": "3.12.1"
  }
 },
 "nbformat": 4,
 "nbformat_minor": 2
}
