{
 "cells": [
  {
   "cell_type": "markdown",
   "metadata": {},
   "source": [
    "# **Data Cleaning**"
   ]
  },
  {
   "cell_type": "code",
   "execution_count": 116,
   "metadata": {},
   "outputs": [],
   "source": [
    "import pandas as pd"
   ]
  },
  {
   "cell_type": "code",
   "execution_count": 117,
   "metadata": {},
   "outputs": [
    {
     "data": {
      "text/html": [
       "<div>\n",
       "<style scoped>\n",
       "    .dataframe tbody tr th:only-of-type {\n",
       "        vertical-align: middle;\n",
       "    }\n",
       "\n",
       "    .dataframe tbody tr th {\n",
       "        vertical-align: top;\n",
       "    }\n",
       "\n",
       "    .dataframe thead th {\n",
       "        text-align: right;\n",
       "    }\n",
       "</style>\n",
       "<table border=\"1\" class=\"dataframe\">\n",
       "  <thead>\n",
       "    <tr style=\"text-align: right;\">\n",
       "      <th></th>\n",
       "      <th>id</th>\n",
       "      <th>name</th>\n",
       "      <th>description</th>\n",
       "      <th>skills</th>\n",
       "    </tr>\n",
       "  </thead>\n",
       "  <tbody>\n",
       "    <tr>\n",
       "      <th>0</th>\n",
       "      <td>1</td>\n",
       "      <td>Cloud Engineer Intern</td>\n",
       "      <td>- Must be undegraduate</td>\n",
       "      <td>NaN</td>\n",
       "    </tr>\n",
       "    <tr>\n",
       "      <th>1</th>\n",
       "      <td>2</td>\n",
       "      <td>Website Developer</td>\n",
       "      <td>&lt;p&gt;&lt;strong&gt;Kualifikasi :&lt;/strong&gt;&amp;nbsp;&lt;/p&gt;&lt;ul...</td>\n",
       "      <td>['Komunikasi', 'Kreatif', 'Pemahaman Industri'...</td>\n",
       "    </tr>\n",
       "    <tr>\n",
       "      <th>2</th>\n",
       "      <td>3</td>\n",
       "      <td>Software Architect Intern</td>\n",
       "      <td>&lt;p&gt;To help architect team on demonstration of ...</td>\n",
       "      <td>['Komunikasi', 'Kreatif', 'Desain Grafis', 'Co...</td>\n",
       "    </tr>\n",
       "  </tbody>\n",
       "</table>\n",
       "</div>"
      ],
      "text/plain": [
       "   id                       name  \\\n",
       "0   1      Cloud Engineer Intern   \n",
       "1   2          Website Developer   \n",
       "2   3  Software Architect Intern   \n",
       "\n",
       "                                         description  \\\n",
       "0                             - Must be undegraduate   \n",
       "1  <p><strong>Kualifikasi :</strong>&nbsp;</p><ul...   \n",
       "2  <p>To help architect team on demonstration of ...   \n",
       "\n",
       "                                              skills  \n",
       "0                                                NaN  \n",
       "1  ['Komunikasi', 'Kreatif', 'Pemahaman Industri'...  \n",
       "2  ['Komunikasi', 'Kreatif', 'Desain Grafis', 'Co...  "
      ]
     },
     "execution_count": 117,
     "metadata": {},
     "output_type": "execute_result"
    }
   ],
   "source": [
    "dataset = pd.read_csv('dataset.csv')\n",
    "dataset"
   ]
  },
  {
   "cell_type": "markdown",
   "metadata": {},
   "source": [
    "## **Combine Data**"
   ]
  },
  {
   "cell_type": "code",
   "execution_count": 118,
   "metadata": {},
   "outputs": [],
   "source": [
    "import ast"
   ]
  },
  {
   "cell_type": "code",
   "execution_count": 119,
   "metadata": {},
   "outputs": [
    {
     "data": {
      "text/plain": [
       "0        Cloud Engineer Intern  - Must be undegraduate\n",
       "1    Website Developer Komunikasi, Kreatif, Pemaham...\n",
       "2    Software Architect Intern Komunikasi, Kreatif,...\n",
       "Name: combined_text, dtype: object"
      ]
     },
     "execution_count": 119,
     "metadata": {},
     "output_type": "execute_result"
    }
   ],
   "source": [
    "dataset['skills'] = dataset['skills'].apply(lambda x: ast.literal_eval(x) if pd.notna(x) else '')\n",
    "\n",
    "dataset['skills'] = dataset['skills'].apply(lambda x: ', '.join(x) if isinstance(x, list) else x)\n",
    "\n",
    "dataset['combined_text'] = dataset['name'] + ' ' + dataset['skills'].astype(str) + ' ' + dataset['description']\n",
    "\n",
    "dataset['combined_text']"
   ]
  },
  {
   "cell_type": "code",
   "execution_count": 120,
   "metadata": {},
   "outputs": [
    {
     "name": "stdout",
     "output_type": "stream",
     "text": [
      "Cloud Engineer Intern  - Must be undegraduate\n"
     ]
    }
   ],
   "source": [
    "print(dataset['combined_text'][0])"
   ]
  },
  {
   "cell_type": "markdown",
   "metadata": {},
   "source": [
    "## **Case Folding**"
   ]
  },
  {
   "cell_type": "code",
   "execution_count": 121,
   "metadata": {},
   "outputs": [
    {
     "data": {
      "text/html": [
       "<div>\n",
       "<style scoped>\n",
       "    .dataframe tbody tr th:only-of-type {\n",
       "        vertical-align: middle;\n",
       "    }\n",
       "\n",
       "    .dataframe tbody tr th {\n",
       "        vertical-align: top;\n",
       "    }\n",
       "\n",
       "    .dataframe thead th {\n",
       "        text-align: right;\n",
       "    }\n",
       "</style>\n",
       "<table border=\"1\" class=\"dataframe\">\n",
       "  <thead>\n",
       "    <tr style=\"text-align: right;\">\n",
       "      <th></th>\n",
       "      <th>id</th>\n",
       "      <th>combined_text</th>\n",
       "      <th>result_case_folding_data</th>\n",
       "    </tr>\n",
       "  </thead>\n",
       "  <tbody>\n",
       "    <tr>\n",
       "      <th>0</th>\n",
       "      <td>1</td>\n",
       "      <td>Cloud Engineer Intern  - Must be undegraduate</td>\n",
       "      <td>cloud engineer intern  - must be undegraduate</td>\n",
       "    </tr>\n",
       "    <tr>\n",
       "      <th>1</th>\n",
       "      <td>2</td>\n",
       "      <td>Website Developer Komunikasi, Kreatif, Pemaham...</td>\n",
       "      <td>website developer komunikasi, kreatif, pemaham...</td>\n",
       "    </tr>\n",
       "    <tr>\n",
       "      <th>2</th>\n",
       "      <td>3</td>\n",
       "      <td>Software Architect Intern Komunikasi, Kreatif,...</td>\n",
       "      <td>software architect intern komunikasi, kreatif,...</td>\n",
       "    </tr>\n",
       "  </tbody>\n",
       "</table>\n",
       "</div>"
      ],
      "text/plain": [
       "   id                                      combined_text  \\\n",
       "0   1      Cloud Engineer Intern  - Must be undegraduate   \n",
       "1   2  Website Developer Komunikasi, Kreatif, Pemaham...   \n",
       "2   3  Software Architect Intern Komunikasi, Kreatif,...   \n",
       "\n",
       "                            result_case_folding_data  \n",
       "0      cloud engineer intern  - must be undegraduate  \n",
       "1  website developer komunikasi, kreatif, pemaham...  \n",
       "2  software architect intern komunikasi, kreatif,...  "
      ]
     },
     "execution_count": 121,
     "metadata": {},
     "output_type": "execute_result"
    }
   ],
   "source": [
    "dataset['result_case_folding_data'] = dataset['combined_text'].apply(lambda x: x.casefold())\n",
    "dataset[['id', 'combined_text','result_case_folding_data']]"
   ]
  },
  {
   "cell_type": "code",
   "execution_count": 123,
   "metadata": {},
   "outputs": [
    {
     "name": "stdout",
     "output_type": "stream",
     "text": [
      "cloud engineer intern  - must be undegraduate\n"
     ]
    }
   ],
   "source": [
    "print(dataset['result_case_folding_data'][0])"
   ]
  },
  {
   "cell_type": "markdown",
   "metadata": {},
   "source": [
    "## **Remove Html Tags**"
   ]
  },
  {
   "cell_type": "code",
   "execution_count": 124,
   "metadata": {},
   "outputs": [],
   "source": [
    "from lxml import etree"
   ]
  },
  {
   "cell_type": "code",
   "execution_count": 125,
   "metadata": {},
   "outputs": [
    {
     "data": {
      "text/html": [
       "<div>\n",
       "<style scoped>\n",
       "    .dataframe tbody tr th:only-of-type {\n",
       "        vertical-align: middle;\n",
       "    }\n",
       "\n",
       "    .dataframe tbody tr th {\n",
       "        vertical-align: top;\n",
       "    }\n",
       "\n",
       "    .dataframe thead th {\n",
       "        text-align: right;\n",
       "    }\n",
       "</style>\n",
       "<table border=\"1\" class=\"dataframe\">\n",
       "  <thead>\n",
       "    <tr style=\"text-align: right;\">\n",
       "      <th></th>\n",
       "      <th>id</th>\n",
       "      <th>result_case_folding_data</th>\n",
       "      <th>result_remove_html_tags</th>\n",
       "    </tr>\n",
       "  </thead>\n",
       "  <tbody>\n",
       "    <tr>\n",
       "      <th>0</th>\n",
       "      <td>1</td>\n",
       "      <td>cloud engineer intern  - must be undegraduate</td>\n",
       "      <td>cloud engineer intern  - must be undegraduate</td>\n",
       "    </tr>\n",
       "    <tr>\n",
       "      <th>1</th>\n",
       "      <td>2</td>\n",
       "      <td>website developer komunikasi, kreatif, pemaham...</td>\n",
       "      <td>website developer komunikasi, kreatif, pemaham...</td>\n",
       "    </tr>\n",
       "    <tr>\n",
       "      <th>2</th>\n",
       "      <td>3</td>\n",
       "      <td>software architect intern komunikasi, kreatif,...</td>\n",
       "      <td>software architect intern komunikasi, kreatif,...</td>\n",
       "    </tr>\n",
       "  </tbody>\n",
       "</table>\n",
       "</div>"
      ],
      "text/plain": [
       "   id                           result_case_folding_data  \\\n",
       "0   1      cloud engineer intern  - must be undegraduate   \n",
       "1   2  website developer komunikasi, kreatif, pemaham...   \n",
       "2   3  software architect intern komunikasi, kreatif,...   \n",
       "\n",
       "                             result_remove_html_tags  \n",
       "0      cloud engineer intern  - must be undegraduate  \n",
       "1  website developer komunikasi, kreatif, pemaham...  \n",
       "2  software architect intern komunikasi, kreatif,...  "
      ]
     },
     "execution_count": 125,
     "metadata": {},
     "output_type": "execute_result"
    }
   ],
   "source": [
    "def remove_html_tags(text):\n",
    "    parser = etree.HTMLParser()\n",
    "    tree = etree.fromstring(text, parser)\n",
    "    return etree.tostring(tree, encoding='unicode', method='text')\n",
    "\n",
    "dataset['result_remove_html_tags'] = dataset['result_case_folding_data'].apply(remove_html_tags)\n",
    "dataset[['id', 'result_case_folding_data' ,'result_remove_html_tags']]"
   ]
  },
  {
   "cell_type": "code",
   "execution_count": 132,
   "metadata": {},
   "outputs": [
    {
     "name": "stderr",
     "output_type": "stream",
     "text": [
      "C:\\Users\\aszay\\AppData\\Local\\Temp\\ipykernel_37968\\2924815539.py:1: FutureWarning: ChainedAssignmentError: behaviour will change in pandas 3.0!\n",
      "You are setting values through chained assignment. Currently this works in certain cases, but when using Copy-on-Write (which will become the default behaviour in pandas 3.0) this will never work to update the original DataFrame or Series, because the intermediate object on which we are setting values will behave as a copy.\n",
      "A typical example is when you are setting values in a column of a DataFrame, like:\n",
      "\n",
      "df[\"col\"][row_indexer] = value\n",
      "\n",
      "Use `df.loc[row_indexer, \"col\"] = values` instead, to perform the assignment in a single step and ensure this keeps updating the original `df`.\n",
      "\n",
      "See the caveats in the documentation: https://pandas.pydata.org/pandas-docs/stable/user_guide/indexing.html#returning-a-view-versus-a-copy\n",
      "\n",
      "  dataset['result_remove_html_tags'][1] = \"\"\"website developer ['komunikasi', 'kreatif', 'pemahaman industri', 'manajemen proyek', 'kreativitas', 'kerjasama tim', 'keahlian teknologi', 'pemasaran produk'] kualifikasi : wajib memiliki laptop sendiri. mampu membuat website dan landing page sesuai dengan kebutuhan perusahaan mampu  optimasi seo masa magang minimum 3 bulan dengan jam kerja normal harus menyertakan portofolio benefit : sertifikat magang konversi nilai sistem wfh\"\"\"\n",
      "C:\\Users\\aszay\\AppData\\Local\\Temp\\ipykernel_37968\\2924815539.py:1: SettingWithCopyWarning: \n",
      "A value is trying to be set on a copy of a slice from a DataFrame\n",
      "\n",
      "See the caveats in the documentation: https://pandas.pydata.org/pandas-docs/stable/user_guide/indexing.html#returning-a-view-versus-a-copy\n",
      "  dataset['result_remove_html_tags'][1] = \"\"\"website developer ['komunikasi', 'kreatif', 'pemahaman industri', 'manajemen proyek', 'kreativitas', 'kerjasama tim', 'keahlian teknologi', 'pemasaran produk'] kualifikasi : wajib memiliki laptop sendiri. mampu membuat website dan landing page sesuai dengan kebutuhan perusahaan mampu  optimasi seo masa magang minimum 3 bulan dengan jam kerja normal harus menyertakan portofolio benefit : sertifikat magang konversi nilai sistem wfh\"\"\"\n",
      "C:\\Users\\aszay\\AppData\\Local\\Temp\\ipykernel_37968\\2924815539.py:3: FutureWarning: ChainedAssignmentError: behaviour will change in pandas 3.0!\n",
      "You are setting values through chained assignment. Currently this works in certain cases, but when using Copy-on-Write (which will become the default behaviour in pandas 3.0) this will never work to update the original DataFrame or Series, because the intermediate object on which we are setting values will behave as a copy.\n",
      "A typical example is when you are setting values in a column of a DataFrame, like:\n",
      "\n",
      "df[\"col\"][row_indexer] = value\n",
      "\n",
      "Use `df.loc[row_indexer, \"col\"] = values` instead, to perform the assignment in a single step and ensure this keeps updating the original `df`.\n",
      "\n",
      "See the caveats in the documentation: https://pandas.pydata.org/pandas-docs/stable/user_guide/indexing.html#returning-a-view-versus-a-copy\n",
      "\n",
      "  dataset['result_remove_html_tags'][2] = \"\"\"software architect intern ['komunikasi', 'kreatif', 'desain grafis', 'coding'] to help architect team on demonstration of an improvement idea in which work is focused on determining whether an idea can be turned into a reality. the improvement might include:- test optimization- test automation- framework usage e.g test framework or design\"\"\"\n",
      "C:\\Users\\aszay\\AppData\\Local\\Temp\\ipykernel_37968\\2924815539.py:3: SettingWithCopyWarning: \n",
      "A value is trying to be set on a copy of a slice from a DataFrame\n",
      "\n",
      "See the caveats in the documentation: https://pandas.pydata.org/pandas-docs/stable/user_guide/indexing.html#returning-a-view-versus-a-copy\n",
      "  dataset['result_remove_html_tags'][2] = \"\"\"software architect intern ['komunikasi', 'kreatif', 'desain grafis', 'coding'] to help architect team on demonstration of an improvement idea in which work is focused on determining whether an idea can be turned into a reality. the improvement might include:- test optimization- test automation- framework usage e.g test framework or design\"\"\"\n"
     ]
    }
   ],
   "source": [
    "dataset['result_remove_html_tags'][1] = \"\"\"website developer ['komunikasi', 'kreatif', 'pemahaman industri', 'manajemen proyek', 'kreativitas', 'kerjasama tim', 'keahlian teknologi', 'pemasaran produk'] kualifikasi : wajib memiliki laptop sendiri. mampu membuat website dan landing page sesuai dengan kebutuhan perusahaan mampu  optimasi seo masa magang minimum 3 bulan dengan jam kerja normal harus menyertakan portofolio benefit : sertifikat magang konversi nilai sistem wfh\"\"\"\n",
    "\n",
    "dataset['result_remove_html_tags'][2] = \"\"\"software architect intern ['komunikasi', 'kreatif', 'desain grafis', 'coding'] to help architect team on demonstration of an improvement idea in which work is focused on determining whether an idea can be turned into a reality. the improvement might include:- test optimization- test automation- framework usage e.g test framework or design\"\"\""
   ]
  },
  {
   "cell_type": "code",
   "execution_count": 134,
   "metadata": {},
   "outputs": [
    {
     "name": "stdout",
     "output_type": "stream",
     "text": [
      "cloud engineer intern  - must be undegraduate\n"
     ]
    }
   ],
   "source": [
    "print(dataset['result_remove_html_tags'][0])"
   ]
  },
  {
   "cell_type": "markdown",
   "metadata": {},
   "source": [
    "## **Remove Non-Alphanumeric Character**"
   ]
  },
  {
   "cell_type": "code",
   "execution_count": 135,
   "metadata": {},
   "outputs": [],
   "source": [
    "import re"
   ]
  },
  {
   "cell_type": "code",
   "execution_count": 136,
   "metadata": {},
   "outputs": [
    {
     "data": {
      "text/html": [
       "<div>\n",
       "<style scoped>\n",
       "    .dataframe tbody tr th:only-of-type {\n",
       "        vertical-align: middle;\n",
       "    }\n",
       "\n",
       "    .dataframe tbody tr th {\n",
       "        vertical-align: top;\n",
       "    }\n",
       "\n",
       "    .dataframe thead th {\n",
       "        text-align: right;\n",
       "    }\n",
       "</style>\n",
       "<table border=\"1\" class=\"dataframe\">\n",
       "  <thead>\n",
       "    <tr style=\"text-align: right;\">\n",
       "      <th></th>\n",
       "      <th>id</th>\n",
       "      <th>result_remove_html_tags</th>\n",
       "      <th>result_remove_non_alphanumeric_character</th>\n",
       "    </tr>\n",
       "  </thead>\n",
       "  <tbody>\n",
       "    <tr>\n",
       "      <th>0</th>\n",
       "      <td>1</td>\n",
       "      <td>cloud engineer intern  - must be undegraduate</td>\n",
       "      <td>cloud engineer intern   must be undegraduate</td>\n",
       "    </tr>\n",
       "    <tr>\n",
       "      <th>1</th>\n",
       "      <td>2</td>\n",
       "      <td>website developer ['komunikasi', 'kreatif', 'p...</td>\n",
       "      <td>website developer komunikasi kreatif pemahaman...</td>\n",
       "    </tr>\n",
       "    <tr>\n",
       "      <th>2</th>\n",
       "      <td>3</td>\n",
       "      <td>software architect intern ['komunikasi', 'krea...</td>\n",
       "      <td>software architect intern komunikasi kreatif d...</td>\n",
       "    </tr>\n",
       "  </tbody>\n",
       "</table>\n",
       "</div>"
      ],
      "text/plain": [
       "   id                            result_remove_html_tags  \\\n",
       "0   1      cloud engineer intern  - must be undegraduate   \n",
       "1   2  website developer ['komunikasi', 'kreatif', 'p...   \n",
       "2   3  software architect intern ['komunikasi', 'krea...   \n",
       "\n",
       "            result_remove_non_alphanumeric_character  \n",
       "0       cloud engineer intern   must be undegraduate  \n",
       "1  website developer komunikasi kreatif pemahaman...  \n",
       "2  software architect intern komunikasi kreatif d...  "
      ]
     },
     "execution_count": 136,
     "metadata": {},
     "output_type": "execute_result"
    }
   ],
   "source": [
    "dataset['result_remove_non_alphanumeric_character'] = dataset['result_remove_html_tags'].apply(lambda x: re.sub(r\"(@[A-Za-z0-9]+)|([^0-9A-Za-z \\t])|(\\w+:\\/\\/\\S+)|^rt|http.+?\", \"\", x))\n",
    "dataset[['id', 'result_remove_html_tags', 'result_remove_non_alphanumeric_character']]"
   ]
  },
  {
   "cell_type": "code",
   "execution_count": 141,
   "metadata": {},
   "outputs": [
    {
     "name": "stdout",
     "output_type": "stream",
     "text": [
      "cloud engineer intern   must be undegraduate\n"
     ]
    }
   ],
   "source": [
    "print(dataset['result_remove_non_alphanumeric_character'][0])"
   ]
  },
  {
   "cell_type": "markdown",
   "metadata": {},
   "source": [
    "## **Tokenization**"
   ]
  },
  {
   "cell_type": "code",
   "execution_count": 142,
   "metadata": {},
   "outputs": [
    {
     "name": "stderr",
     "output_type": "stream",
     "text": [
      "[nltk_data] Downloading package punkt to\n",
      "[nltk_data]     C:\\Users\\aszay\\AppData\\Roaming\\nltk_data...\n",
      "[nltk_data]   Package punkt is already up-to-date!\n"
     ]
    }
   ],
   "source": [
    "import nltk\n",
    "nltk.download('punkt')\n",
    "from nltk.tokenize import word_tokenize"
   ]
  },
  {
   "cell_type": "code",
   "execution_count": 143,
   "metadata": {},
   "outputs": [
    {
     "data": {
      "text/html": [
       "<div>\n",
       "<style scoped>\n",
       "    .dataframe tbody tr th:only-of-type {\n",
       "        vertical-align: middle;\n",
       "    }\n",
       "\n",
       "    .dataframe tbody tr th {\n",
       "        vertical-align: top;\n",
       "    }\n",
       "\n",
       "    .dataframe thead th {\n",
       "        text-align: right;\n",
       "    }\n",
       "</style>\n",
       "<table border=\"1\" class=\"dataframe\">\n",
       "  <thead>\n",
       "    <tr style=\"text-align: right;\">\n",
       "      <th></th>\n",
       "      <th>id</th>\n",
       "      <th>result_remove_non_alphanumeric_character</th>\n",
       "      <th>result_tokenization</th>\n",
       "    </tr>\n",
       "  </thead>\n",
       "  <tbody>\n",
       "    <tr>\n",
       "      <th>0</th>\n",
       "      <td>1</td>\n",
       "      <td>cloud engineer intern   must be undegraduate</td>\n",
       "      <td>[cloud, engineer, intern, must, be, undegraduate]</td>\n",
       "    </tr>\n",
       "    <tr>\n",
       "      <th>1</th>\n",
       "      <td>2</td>\n",
       "      <td>website developer komunikasi kreatif pemahaman...</td>\n",
       "      <td>[website, developer, komunikasi, kreatif, pema...</td>\n",
       "    </tr>\n",
       "    <tr>\n",
       "      <th>2</th>\n",
       "      <td>3</td>\n",
       "      <td>software architect intern komunikasi kreatif d...</td>\n",
       "      <td>[software, architect, intern, komunikasi, krea...</td>\n",
       "    </tr>\n",
       "  </tbody>\n",
       "</table>\n",
       "</div>"
      ],
      "text/plain": [
       "   id           result_remove_non_alphanumeric_character  \\\n",
       "0   1       cloud engineer intern   must be undegraduate   \n",
       "1   2  website developer komunikasi kreatif pemahaman...   \n",
       "2   3  software architect intern komunikasi kreatif d...   \n",
       "\n",
       "                                 result_tokenization  \n",
       "0  [cloud, engineer, intern, must, be, undegraduate]  \n",
       "1  [website, developer, komunikasi, kreatif, pema...  \n",
       "2  [software, architect, intern, komunikasi, krea...  "
      ]
     },
     "execution_count": 143,
     "metadata": {},
     "output_type": "execute_result"
    }
   ],
   "source": [
    "dataset['result_tokenization'] = dataset['result_remove_non_alphanumeric_character'].apply(lambda x: word_tokenize(x))\n",
    "dataset[['id', 'result_remove_non_alphanumeric_character', 'result_tokenization']]"
   ]
  },
  {
   "cell_type": "code",
   "execution_count": 147,
   "metadata": {},
   "outputs": [
    {
     "name": "stdout",
     "output_type": "stream",
     "text": [
      "['cloud', 'engineer', 'intern', 'must', 'be', 'undegraduate']\n"
     ]
    }
   ],
   "source": [
    "print(dataset['result_tokenization'][0])"
   ]
  },
  {
   "cell_type": "markdown",
   "metadata": {},
   "source": [
    "## **Remove Stopwords**"
   ]
  },
  {
   "cell_type": "code",
   "execution_count": 148,
   "metadata": {},
   "outputs": [
    {
     "name": "stderr",
     "output_type": "stream",
     "text": [
      "[nltk_data] Downloading package stopwords to\n",
      "[nltk_data]     C:\\Users\\aszay\\AppData\\Roaming\\nltk_data...\n",
      "[nltk_data]   Package stopwords is already up-to-date!\n"
     ]
    }
   ],
   "source": [
    "from Sastrawi.StopWordRemover.StopWordRemoverFactory import StopWordRemoverFactory, StopWordRemover, ArrayDictionary\n",
    "nltk.download('stopwords')\n",
    "from nltk.corpus import stopwords"
   ]
  },
  {
   "cell_type": "code",
   "execution_count": 149,
   "metadata": {},
   "outputs": [],
   "source": [
    "english_stopwords = stopwords.words('english')\n",
    "\n",
    "stopword_factory = StopWordRemoverFactory()\n",
    "list_stopwords = ArrayDictionary(stopword_factory.get_stop_words() + english_stopwords)\n",
    "\n",
    "\n",
    "stopword = StopWordRemover(list_stopwords)"
   ]
  },
  {
   "cell_type": "code",
   "execution_count": 150,
   "metadata": {},
   "outputs": [
    {
     "data": {
      "text/html": [
       "<div>\n",
       "<style scoped>\n",
       "    .dataframe tbody tr th:only-of-type {\n",
       "        vertical-align: middle;\n",
       "    }\n",
       "\n",
       "    .dataframe tbody tr th {\n",
       "        vertical-align: top;\n",
       "    }\n",
       "\n",
       "    .dataframe thead th {\n",
       "        text-align: right;\n",
       "    }\n",
       "</style>\n",
       "<table border=\"1\" class=\"dataframe\">\n",
       "  <thead>\n",
       "    <tr style=\"text-align: right;\">\n",
       "      <th></th>\n",
       "      <th>id</th>\n",
       "      <th>result_tokenization</th>\n",
       "      <th>result_remove_stopwords</th>\n",
       "    </tr>\n",
       "  </thead>\n",
       "  <tbody>\n",
       "    <tr>\n",
       "      <th>0</th>\n",
       "      <td>1</td>\n",
       "      <td>[cloud, engineer, intern, must, be, undegraduate]</td>\n",
       "      <td>cloud engineer intern must  undegraduate</td>\n",
       "    </tr>\n",
       "    <tr>\n",
       "      <th>1</th>\n",
       "      <td>2</td>\n",
       "      <td>[website, developer, komunikasi, kreatif, pema...</td>\n",
       "      <td>website developer komunikasi kreatif pemahaman...</td>\n",
       "    </tr>\n",
       "    <tr>\n",
       "      <th>2</th>\n",
       "      <td>3</td>\n",
       "      <td>[software, architect, intern, komunikasi, krea...</td>\n",
       "      <td>software architect intern komunikasi kreatif d...</td>\n",
       "    </tr>\n",
       "  </tbody>\n",
       "</table>\n",
       "</div>"
      ],
      "text/plain": [
       "   id                                result_tokenization  \\\n",
       "0   1  [cloud, engineer, intern, must, be, undegraduate]   \n",
       "1   2  [website, developer, komunikasi, kreatif, pema...   \n",
       "2   3  [software, architect, intern, komunikasi, krea...   \n",
       "\n",
       "                             result_remove_stopwords  \n",
       "0           cloud engineer intern must  undegraduate  \n",
       "1  website developer komunikasi kreatif pemahaman...  \n",
       "2  software architect intern komunikasi kreatif d...  "
      ]
     },
     "execution_count": 150,
     "metadata": {},
     "output_type": "execute_result"
    }
   ],
   "source": [
    "def remove_stopwords(text):\n",
    "    filtered_words = [stopword.remove(word) for word in text]\n",
    "    return filtered_words\n",
    "\n",
    "# Apply remove_stopwords to the 'result_tokenization' column\n",
    "dataset['result_remove_stopwords'] = dataset['result_tokenization'].apply(remove_stopwords)\n",
    "\n",
    "dataset['result_remove_stopwords'] = dataset['result_remove_stopwords'].apply(lambda x: ' '.join(x))\n",
    "\n",
    "dataset[['id', 'result_tokenization', 'result_remove_stopwords']]"
   ]
  },
  {
   "cell_type": "code",
   "execution_count": 154,
   "metadata": {},
   "outputs": [
    {
     "name": "stdout",
     "output_type": "stream",
     "text": [
      "cloud engineer intern must  undegraduate\n"
     ]
    }
   ],
   "source": [
    "print(dataset['result_remove_stopwords'][0])"
   ]
  },
  {
   "cell_type": "markdown",
   "metadata": {},
   "source": [
    "## **Stemming**"
   ]
  },
  {
   "cell_type": "code",
   "execution_count": 155,
   "metadata": {},
   "outputs": [],
   "source": [
    "from Sastrawi.Stemmer.StemmerFactory import StemmerFactory"
   ]
  },
  {
   "cell_type": "code",
   "execution_count": 156,
   "metadata": {},
   "outputs": [
    {
     "data": {
      "text/html": [
       "<div>\n",
       "<style scoped>\n",
       "    .dataframe tbody tr th:only-of-type {\n",
       "        vertical-align: middle;\n",
       "    }\n",
       "\n",
       "    .dataframe tbody tr th {\n",
       "        vertical-align: top;\n",
       "    }\n",
       "\n",
       "    .dataframe thead th {\n",
       "        text-align: right;\n",
       "    }\n",
       "</style>\n",
       "<table border=\"1\" class=\"dataframe\">\n",
       "  <thead>\n",
       "    <tr style=\"text-align: right;\">\n",
       "      <th></th>\n",
       "      <th>id</th>\n",
       "      <th>result_remove_stopwords</th>\n",
       "      <th>result_stemming</th>\n",
       "    </tr>\n",
       "  </thead>\n",
       "  <tbody>\n",
       "    <tr>\n",
       "      <th>0</th>\n",
       "      <td>1</td>\n",
       "      <td>cloud engineer intern must  undegraduate</td>\n",
       "      <td>cloud engineer intern must undegraduate</td>\n",
       "    </tr>\n",
       "    <tr>\n",
       "      <th>1</th>\n",
       "      <td>2</td>\n",
       "      <td>website developer komunikasi kreatif pemahaman...</td>\n",
       "      <td>website developer komunikasi kreatif paham ind...</td>\n",
       "    </tr>\n",
       "    <tr>\n",
       "      <th>2</th>\n",
       "      <td>3</td>\n",
       "      <td>software architect intern komunikasi kreatif d...</td>\n",
       "      <td>software architect intern komunikasi kreatif d...</td>\n",
       "    </tr>\n",
       "  </tbody>\n",
       "</table>\n",
       "</div>"
      ],
      "text/plain": [
       "   id                            result_remove_stopwords  \\\n",
       "0   1           cloud engineer intern must  undegraduate   \n",
       "1   2  website developer komunikasi kreatif pemahaman...   \n",
       "2   3  software architect intern komunikasi kreatif d...   \n",
       "\n",
       "                                     result_stemming  \n",
       "0            cloud engineer intern must undegraduate  \n",
       "1  website developer komunikasi kreatif paham ind...  \n",
       "2  software architect intern komunikasi kreatif d...  "
      ]
     },
     "execution_count": 156,
     "metadata": {},
     "output_type": "execute_result"
    }
   ],
   "source": [
    "stemmer = StemmerFactory().create_stemmer()\n",
    "\n",
    "dataset['result_stemming'] = dataset['result_remove_stopwords'].apply(lambda x: stemmer.stem(x))\n",
    "dataset[['id', 'result_remove_stopwords', 'result_stemming']]"
   ]
  },
  {
   "cell_type": "code",
   "execution_count": 159,
   "metadata": {},
   "outputs": [
    {
     "name": "stdout",
     "output_type": "stream",
     "text": [
      "website developer komunikasi kreatif paham industri manajemen proyek kreativitas kerjasama tim ahli teknologi pasar produk kualifikasi wajib milik laptop sendiri mampu buat website landing page sesuai butuh usaha mampu optimasi seo masa magang minimum 3 bulan jam kerja normal serta portofolio benefit sertifikat magang konversi nilai sistem wfh\n"
     ]
    }
   ],
   "source": [
    "print(dataset['result_stemming'][1])"
   ]
  },
  {
   "cell_type": "markdown",
   "metadata": {},
   "source": [
    "## **Vectorizer**"
   ]
  },
  {
   "cell_type": "code",
   "execution_count": 163,
   "metadata": {},
   "outputs": [],
   "source": [
    "from sklearn.feature_extraction.text import TfidfVectorizer"
   ]
  },
  {
   "cell_type": "code",
   "execution_count": 164,
   "metadata": {},
   "outputs": [
    {
     "data": {
      "text/plain": [
       "<3x74 sparse matrix of type '<class 'numpy.float64'>'\n",
       "\twith 77 stored elements in Compressed Sparse Row format>"
      ]
     },
     "execution_count": 164,
     "metadata": {},
     "output_type": "execute_result"
    }
   ],
   "source": [
    "vectors = TfidfVectorizer().fit_transform(dataset['result_stemming'])\n",
    "vectors.toarray()\n",
    "\n",
    "vectors"
   ]
  },
  {
   "cell_type": "markdown",
   "metadata": {},
   "source": [
    "# **Modeling**"
   ]
  },
  {
   "cell_type": "code",
   "execution_count": 165,
   "metadata": {},
   "outputs": [],
   "source": [
    "from sklearn.metrics.pairwise import cosine_similarity"
   ]
  },
  {
   "cell_type": "code",
   "execution_count": 168,
   "metadata": {},
   "outputs": [
    {
     "data": {
      "text/plain": [
       "array([0.        , 1.        , 0.02343044])"
      ]
     },
     "execution_count": 168,
     "metadata": {},
     "output_type": "execute_result"
    }
   ],
   "source": [
    "similarity = cosine_similarity(vectors)\n",
    "similarity[1][0:]"
   ]
  },
  {
   "cell_type": "code",
   "execution_count": 169,
   "metadata": {},
   "outputs": [],
   "source": [
    "def recommend_by_content_based_filtering(item):\n",
    "  item_index = dataset[dataset['id']==item].index[0]\n",
    "  distances = similarity[item_index]\n",
    "  item_list = sorted(list(enumerate(distances)), reverse=True, key=lambda x: x[1])[0:]\n",
    "\n",
    "  recommended_items = []\n",
    "\n",
    "  for i in item_list:\n",
    "    recommended_items.append([dataset.iloc[i[0]].id]+[i[1]])\n",
    "\n",
    "  return recommended_items"
   ]
  },
  {
   "cell_type": "code",
   "execution_count": 171,
   "metadata": {},
   "outputs": [
    {
     "data": {
      "text/plain": [
       "[[2, 1.0000000000000002], [3, 0.023430435514537336], [1, 0.0]]"
      ]
     },
     "execution_count": 171,
     "metadata": {},
     "output_type": "execute_result"
    },
    {
     "ename": "",
     "evalue": "",
     "output_type": "error",
     "traceback": [
      "\u001b[1;31mThe Kernel crashed while executing code in the current cell or a previous cell. \n",
      "\u001b[1;31mPlease review the code in the cell(s) to identify a possible cause of the failure. \n",
      "\u001b[1;31mClick <a href='https://aka.ms/vscodeJupyterKernelCrash'>here</a> for more info. \n",
      "\u001b[1;31mView Jupyter <a href='command:jupyter.viewOutput'>log</a> for further details."
     ]
    }
   ],
   "source": [
    "recommend_by_content_based_filtering(2)"
   ]
  }
 ],
 "metadata": {
  "kernelspec": {
   "display_name": ".venv",
   "language": "python",
   "name": "python3"
  },
  "language_info": {
   "codemirror_mode": {
    "name": "ipython",
    "version": 3
   },
   "file_extension": ".py",
   "mimetype": "text/x-python",
   "name": "python",
   "nbconvert_exporter": "python",
   "pygments_lexer": "ipython3",
   "version": "3.12.1"
  }
 },
 "nbformat": 4,
 "nbformat_minor": 2
}
