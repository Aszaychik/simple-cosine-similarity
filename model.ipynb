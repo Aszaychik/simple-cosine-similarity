{
 "cells": [
  {
   "cell_type": "markdown",
   "metadata": {},
   "source": [
    "# **Data Cleaning**"
   ]
  },
  {
   "cell_type": "code",
   "execution_count": 1,
   "metadata": {},
   "outputs": [],
   "source": [
    "import pandas as pd"
   ]
  },
  {
   "cell_type": "code",
   "execution_count": 17,
   "metadata": {},
   "outputs": [
    {
     "data": {
      "text/html": [
       "<div>\n",
       "<style scoped>\n",
       "    .dataframe tbody tr th:only-of-type {\n",
       "        vertical-align: middle;\n",
       "    }\n",
       "\n",
       "    .dataframe tbody tr th {\n",
       "        vertical-align: top;\n",
       "    }\n",
       "\n",
       "    .dataframe thead th {\n",
       "        text-align: right;\n",
       "    }\n",
       "</style>\n",
       "<table border=\"1\" class=\"dataframe\">\n",
       "  <thead>\n",
       "    <tr style=\"text-align: right;\">\n",
       "      <th></th>\n",
       "      <th>id</th>\n",
       "      <th>name</th>\n",
       "      <th>description</th>\n",
       "      <th>skills</th>\n",
       "    </tr>\n",
       "  </thead>\n",
       "  <tbody>\n",
       "    <tr>\n",
       "      <th>0</th>\n",
       "      <td>1</td>\n",
       "      <td>Back-end Developer Internship</td>\n",
       "      <td>Job Descriptions Merancang dan membuat API den...</td>\n",
       "      <td>NaN</td>\n",
       "    </tr>\n",
       "    <tr>\n",
       "      <th>1</th>\n",
       "      <td>2</td>\n",
       "      <td>Website Developer</td>\n",
       "      <td>&lt;p&gt;&lt;strong&gt;Kualifikasi :&lt;/strong&gt;&amp;nbsp;&lt;/p&gt;&lt;ul...</td>\n",
       "      <td>['Komunikasi', 'Kreatif', 'Pemahaman Industri'...</td>\n",
       "    </tr>\n",
       "    <tr>\n",
       "      <th>2</th>\n",
       "      <td>3</td>\n",
       "      <td>Software Architect Intern</td>\n",
       "      <td>&lt;p&gt;To help architect team on demonstration of ...</td>\n",
       "      <td>['Komunikasi', 'Kreatif', 'Desain Grafis', 'Co...</td>\n",
       "    </tr>\n",
       "  </tbody>\n",
       "</table>\n",
       "</div>"
      ],
      "text/plain": [
       "   id                           name  \\\n",
       "0   1  Back-end Developer Internship   \n",
       "1   2              Website Developer   \n",
       "2   3      Software Architect Intern   \n",
       "\n",
       "                                         description  \\\n",
       "0  Job Descriptions Merancang dan membuat API den...   \n",
       "1  <p><strong>Kualifikasi :</strong>&nbsp;</p><ul...   \n",
       "2  <p>To help architect team on demonstration of ...   \n",
       "\n",
       "                                              skills  \n",
       "0                                                NaN  \n",
       "1  ['Komunikasi', 'Kreatif', 'Pemahaman Industri'...  \n",
       "2  ['Komunikasi', 'Kreatif', 'Desain Grafis', 'Co...  "
      ]
     },
     "execution_count": 17,
     "metadata": {},
     "output_type": "execute_result"
    }
   ],
   "source": [
    "dataset = pd.read_csv('dataset.csv')\n",
    "dataset"
   ]
  },
  {
   "cell_type": "markdown",
   "metadata": {},
   "source": [
    "## **Combine Data**"
   ]
  },
  {
   "cell_type": "code",
   "execution_count": 18,
   "metadata": {},
   "outputs": [],
   "source": [
    "import ast"
   ]
  },
  {
   "cell_type": "code",
   "execution_count": 19,
   "metadata": {},
   "outputs": [
    {
     "data": {
      "text/plain": [
       "0    Back-end Developer Internship  Job Description...\n",
       "1    Website Developer Komunikasi, Kreatif, Pemaham...\n",
       "2    Software Architect Intern Komunikasi, Kreatif,...\n",
       "Name: combined_text, dtype: object"
      ]
     },
     "execution_count": 19,
     "metadata": {},
     "output_type": "execute_result"
    }
   ],
   "source": [
    "dataset['skills'] = dataset['skills'].apply(lambda x: ast.literal_eval(x) if pd.notna(x) else '')\n",
    "\n",
    "dataset['skills'] = dataset['skills'].apply(lambda x: ', '.join(x) if isinstance(x, list) else x)\n",
    "\n",
    "dataset['combined_text'] = dataset['name'] + ' ' + dataset['skills'].astype(str) + ' ' + dataset['description']\n",
    "\n",
    "dataset['combined_text']"
   ]
  },
  {
   "cell_type": "code",
   "execution_count": 21,
   "metadata": {},
   "outputs": [
    {
     "data": {
      "text/plain": [
       "'Website Developer Komunikasi, Kreatif, Pemahaman Industri, Manajemen Proyek, Kreativitas, Kerjasama Tim, Keahlian Teknologi, Pemasaran Produk <p><strong>Kualifikasi :</strong>&nbsp;</p><ul><li>Wajib memiliki laptop sendiri.</li><li>Mampu membuat website dan landing page sesuai dengan kebutuhan perusahaan </li><li>Mampu  Optimasi SEO</li><li>Masa magang minimum 3 bulan dengan jam kerja normal</li><li>Harus menyertakan portofolio</li></ul><p><br></p><p><br></p><p><strong>Benefit :</strong></p><ul><li>Sertifikat Magang&nbsp;</li><li>Konversi Nilai</li><li>Sistem WFH</li></ul><p><strong>Kualifikasi :</strong>&nbsp;</p><ul><li>Wajib memiliki laptop sendiri.</li><li>Mampu membuat website dan landing page sesuai dengan kebutuhan perusahaan </li><li>Mampu  Optimasi SEO</li><li>Masa magang minimum 3 bulan dengan jam kerja normal</li><li>Harus menyertakan portofolio</li></ul><p><br></p><p><br></p><p><strong>Benefit :</strong></p><ul><li>Sertifikat Magang&nbsp;</li><li>Konversi Nilai</li><li>Sistem WFH</li></ul>'"
      ]
     },
     "execution_count": 21,
     "metadata": {},
     "output_type": "execute_result"
    }
   ],
   "source": [
    "dataset['combined_text'][1]"
   ]
  },
  {
   "cell_type": "code",
   "execution_count": null,
   "metadata": {},
   "outputs": [],
   "source": []
  }
 ],
 "metadata": {
  "kernelspec": {
   "display_name": ".venv",
   "language": "python",
   "name": "python3"
  },
  "language_info": {
   "codemirror_mode": {
    "name": "ipython",
    "version": 3
   },
   "file_extension": ".py",
   "mimetype": "text/x-python",
   "name": "python",
   "nbconvert_exporter": "python",
   "pygments_lexer": "ipython3",
   "version": "3.12.1"
  }
 },
 "nbformat": 4,
 "nbformat_minor": 2
}
